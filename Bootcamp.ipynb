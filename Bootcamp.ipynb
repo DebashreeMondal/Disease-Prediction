{
  "nbformat": 4,
  "nbformat_minor": 0,
  "metadata": {
    "colab": {
      "private_outputs": true,
      "provenance": [],
      "authorship_tag": "ABX9TyNSpBLUyrl3bWlwpjZJbL/Y",
      "include_colab_link": true
    },
    "kernelspec": {
      "name": "python3",
      "display_name": "Python 3"
    },
    "language_info": {
      "name": "python"
    }
  },
  "cells": [
    {
      "cell_type": "markdown",
      "metadata": {
        "id": "view-in-github",
        "colab_type": "text"
      },
      "source": [
        "<a href=\"https://colab.research.google.com/github/DebashreeMondal/Disease-Prediction/blob/main/Bootcamp.ipynb\" target=\"_parent\"><img src=\"https://colab.research.google.com/assets/colab-badge.svg\" alt=\"Open In Colab\"/></a>"
      ]
    },
    {
      "cell_type": "markdown",
      "source": [
        "Day 1:"
      ],
      "metadata": {
        "id": "-tmUmVXRLO-G"
      }
    },
    {
      "cell_type": "code",
      "execution_count": null,
      "metadata": {
        "id": "i1gUTuG8LF-9"
      },
      "outputs": [],
      "source": [
        "from google.colab import files\n",
        "files.upload()"
      ]
    },
    {
      "cell_type": "code",
      "source": [
        "!mkdir -p ~/.kaggle\n",
        "!cp kaggle.json ~/.kaggle/\n",
        "!chmod 600 ~/.kaggle/kaggle.json"
      ],
      "metadata": {
        "id": "-W35KuHrLJrp"
      },
      "execution_count": null,
      "outputs": []
    },
    {
      "cell_type": "code",
      "source": [
        "!pip install kaggle"
      ],
      "metadata": {
        "id": "wbADGuCvLmuW"
      },
      "execution_count": null,
      "outputs": []
    },
    {
      "cell_type": "code",
      "source": [
        "import pandas as pd\n",
        "df = pd.read_csv('/content/heart_attack_c117 (2) - heart_attack_c117 (2).csv')"
      ],
      "metadata": {
        "id": "p3hap-cmLrP7"
      },
      "execution_count": null,
      "outputs": []
    },
    {
      "cell_type": "code",
      "source": [
        "df.head()"
      ],
      "metadata": {
        "id": "JxQl7gGkL78b"
      },
      "execution_count": null,
      "outputs": []
    },
    {
      "cell_type": "code",
      "source": [
        "print(df.columns)"
      ],
      "metadata": {
        "id": "_nUbcSd3L75N"
      },
      "execution_count": null,
      "outputs": []
    },
    {
      "cell_type": "code",
      "source": [
        "df.isnull().sum()"
      ],
      "metadata": {
        "id": "BEq9n5DdL7n3"
      },
      "execution_count": null,
      "outputs": []
    },
    {
      "cell_type": "code",
      "source": [
        "numeric_cols = df.select_dtypes(include='number').columns\n",
        "df[numeric_cols] = df[numeric_cols].fillna(df[numeric_cols].mean())"
      ],
      "metadata": {
        "id": "sQ6JrJNyL7ke"
      },
      "execution_count": null,
      "outputs": []
    },
    {
      "cell_type": "code",
      "source": [
        "import matplotlib.pyplot as plt\n",
        "import seaborn as sns"
      ],
      "metadata": {
        "id": "PhGugtmFL7if"
      },
      "execution_count": null,
      "outputs": []
    },
    {
      "cell_type": "code",
      "source": [
        "df[numeric_cols].hist(figsize=(15,10))\n",
        "plt.tight_layout()\n",
        "plt.show()"
      ],
      "metadata": {
        "id": "ZJJ2qGUdMGBb"
      },
      "execution_count": null,
      "outputs": []
    },
    {
      "cell_type": "code",
      "source": [
        "sns.heatmap(df[numeric_cols].corr(), annot=True, cmap='coolwarm')\n",
        "plt.title('Numeric Feature Correlations')\n",
        "plt.show()"
      ],
      "metadata": {
        "id": "7wuJ1rbeMF99"
      },
      "execution_count": null,
      "outputs": []
    },
    {
      "cell_type": "markdown",
      "source": [
        "Day 2:"
      ],
      "metadata": {
        "id": "i_Oc_a5WMK1M"
      }
    },
    {
      "cell_type": "code",
      "source": [
        "#One-hot encode ALL 'object' categorical columns\n",
        "cat_cols = df.select_dtypes(include='object').columns.tolist()\n",
        "if 'thal' in cat_cols:\n",
        "    cat_cols.remove('thal')"
      ],
      "metadata": {
        "id": "BXL-DRTMMTlG"
      },
      "execution_count": null,
      "outputs": []
    },
    {
      "cell_type": "code",
      "source": [
        "X = df.drop('thal', axis=1)\n",
        "y = (df['thal'].isin([1,2,3])).astype(int)"
      ],
      "metadata": {
        "id": "Af35fKHjMThk"
      },
      "execution_count": null,
      "outputs": []
    },
    {
      "cell_type": "code",
      "source": [
        "X = pd.get_dummies(X, columns=cat_cols)\n",
        "print(\"Final feature columns:\", X.columns)"
      ],
      "metadata": {
        "id": "oCc1Y-EkMTdD"
      },
      "execution_count": null,
      "outputs": []
    },
    {
      "cell_type": "markdown",
      "source": [
        "Day 3:"
      ],
      "metadata": {
        "id": "c8QryXsnMaT8"
      }
    },
    {
      "cell_type": "code",
      "source": [
        "from sklearn.model_selection import train_test_split\n",
        "from sklearn.preprocessing import StandardScaler"
      ],
      "metadata": {
        "id": "Gx5r1lcLMTZx"
      },
      "execution_count": null,
      "outputs": []
    },
    {
      "cell_type": "code",
      "source": [
        "X_train, X_test, y_train, y_test = train_test_split(X, y, test_size=0.2, random_state=42)"
      ],
      "metadata": {
        "id": "n4tLaLFcMTMu"
      },
      "execution_count": null,
      "outputs": []
    },
    {
      "cell_type": "code",
      "source": [
        "# Scale numeric features\n",
        "scaler = StandardScaler()\n",
        "X_train_scaled = scaler.fit_transform(X_train)\n",
        "X_test_scaled = scaler.transform(X_test)"
      ],
      "metadata": {
        "id": "FOuWa6U2MTJh"
      },
      "execution_count": null,
      "outputs": []
    },
    {
      "cell_type": "code",
      "source": [
        "# Train logistic regression\n",
        "from sklearn.linear_model import LogisticRegression"
      ],
      "metadata": {
        "id": "KTacXQIGMTHk"
      },
      "execution_count": null,
      "outputs": []
    },
    {
      "cell_type": "code",
      "source": [
        "lr_model = LogisticRegression()\n",
        "lr_model.fit(X_train_scaled, y_train)"
      ],
      "metadata": {
        "id": "lkHAZu4CMTFh"
      },
      "execution_count": null,
      "outputs": []
    },
    {
      "cell_type": "code",
      "source": [
        "#Model evaluation\n",
        "from sklearn.metrics import accuracy_score , classification_report"
      ],
      "metadata": {
        "id": "xTLq4f51MlU-"
      },
      "execution_count": null,
      "outputs": []
    },
    {
      "cell_type": "code",
      "source": [
        "y_pred_lr=lr_model.predict(X_test_scaled)\n",
        "print(\"Logistic Regression Accuracy:\",accuracy_score(y_test,y_pred_lr))\n",
        "print(classification_report(y_test,y_pred_lr))"
      ],
      "metadata": {
        "id": "J9IV5ATsMlPi"
      },
      "execution_count": null,
      "outputs": []
    },
    {
      "cell_type": "markdown",
      "source": [
        "Day 4:"
      ],
      "metadata": {
        "id": "hWd46AlNMqtd"
      }
    },
    {
      "cell_type": "code",
      "source": [
        "from sklearn.metrics import confusion_matrix"
      ],
      "metadata": {
        "id": "M0YTPWkWMlF8"
      },
      "execution_count": null,
      "outputs": []
    },
    {
      "cell_type": "code",
      "source": [
        "# Evaluate logistic regression\n",
        "y_pred_lr = lr_model.predict(X_test_scaled)\n",
        "print(\"Logistic Regression Accuracy:\", accuracy_score(y_test, y_pred_lr))\n",
        "print(classification_report(y_test, y_pred_lr))"
      ],
      "metadata": {
        "id": "xU3iTHH1Mzp5"
      },
      "execution_count": null,
      "outputs": []
    },
    {
      "cell_type": "code",
      "source": [
        "#Random Forest\n",
        "cm = confusion_matrix(y_test, y_pred_lr)\n",
        "sns.heatmap(cm, annot=True, fmt='d', cmap='Blues')\n",
        "plt.title('Confusion Matrix (Logistic Regression)')\n",
        "plt.show()"
      ],
      "metadata": {
        "id": "L-Ed3ahTMznc"
      },
      "execution_count": null,
      "outputs": []
    },
    {
      "cell_type": "code",
      "source": [
        "# Random Forest for comparison\n",
        "from sklearn.ensemble import RandomForestClassifier\n",
        "rf_model = RandomForestClassifier(n_estimators=100, random_state=42)\n",
        "rf_model.fit(X_train_scaled, y_train)\n",
        "y_pred_rf = rf_model.predict(X_test_scaled)\n",
        "print(\"Random Forest Accuracy:\", accuracy_score(y_test, y_pred_rf))"
      ],
      "metadata": {
        "id": "7xr_3Cp5Mzla"
      },
      "execution_count": null,
      "outputs": []
    },
    {
      "cell_type": "code",
      "source": [
        "#Feature Importance\n",
        "feat_imp = pd.Series(rf_model.feature_importances_,index=X.columns)\n",
        "feat_imp.nlargest(10).plot(kind='barh')\n",
        "plt.title('Random Forest Feature Importance')\n",
        "plt.show()"
      ],
      "metadata": {
        "id": "mlt_8CaIMzjZ"
      },
      "execution_count": null,
      "outputs": []
    },
    {
      "cell_type": "code",
      "source": [
        "import joblib\n",
        "joblib.dump(rf_model,'heart_rf_model.pkl')\n",
        "joblib.dump(scaler,'heart_scaler.pkl')"
      ],
      "metadata": {
        "id": "vjQ3MxGaNDRw"
      },
      "execution_count": null,
      "outputs": []
    },
    {
      "cell_type": "code",
      "source": [
        "joblib.dump(scaler, 'heart_scaler.pkl')"
      ],
      "metadata": {
        "id": "nCIxesjANDO4"
      },
      "execution_count": null,
      "outputs": []
    },
    {
      "cell_type": "code",
      "source": [
        "sample = X.head(1)\n",
        "sample.to_csv('Heart_user_template.csv',index=False)\n",
        "print(\"User Template saved as 'Heart_user_template.csv' \")"
      ],
      "metadata": {
        "id": "GF2EWkIJNDM_"
      },
      "execution_count": null,
      "outputs": []
    },
    {
      "cell_type": "markdown",
      "source": [
        "Day 5:"
      ],
      "metadata": {
        "id": "12AsDQLnNHwb"
      }
    },
    {
      "cell_type": "code",
      "source": [
        "from google.colab import files\n",
        "files.upload()"
      ],
      "metadata": {
        "id": "KDeABwcbNDLB"
      },
      "execution_count": null,
      "outputs": []
    },
    {
      "cell_type": "code",
      "source": [
        "import joblib\n",
        "import pandas as pd\n",
        "\n",
        "user_df = pd.read_csv('/content/heart_attack_c117 (2) - heart_attack_c117 (2).csv')\n",
        "\n",
        "# Get column lists from training dataframe\n",
        "numeric_cols = df.select_dtypes(include='number').columns.tolist()\n",
        "cat_cols = df.select_dtypes(include='object').columns.tolist()\n",
        "bool_cols = df.select_dtypes(include='bool').columns.tolist()\n",
        "\n",
        "# Drop columns not in user_df to avoid errors\n",
        "numeric_cols = [col for col in numeric_cols if col in user_df.columns]\n",
        "cat_cols = [col for col in cat_cols if col in user_df.columns]\n",
        "bool_cols = [col for col in bool_cols if col in user_df.columns]\n",
        "\n",
        "# Fill missing values in numeric columns with training set mean\n",
        "user_df[numeric_cols] = user_df[numeric_cols].fillna(df[numeric_cols].mean())\n",
        "\n",
        "# Fill missing values in categorical columns with 'Unknown'\n",
        "for col in cat_cols:\n",
        "    user_df[col] = user_df[col].fillna('Unknown')\n",
        "\n",
        "# Convert boolean columns to int\n",
        "for col in bool_cols:\n",
        "    user_df[col] = user_df[col].astype(int)\n",
        "\n",
        "# One-hot encode categorical columns\n",
        "user_df_encoded = pd.get_dummies(user_df, columns=cat_cols)\n",
        "\n",
        "# Align columns with training features X.columns\n",
        "user_df_encoded = user_df_encoded.reindex(columns=X.columns, fill_value=0)\n",
        "\n",
        "# Scale data\n",
        "scaler = joblib.load('heart_scaler.pkl')\n",
        "user_scaled = scaler.transform(user_df_encoded)\n",
        "\n",
        "# Predict\n",
        "model = joblib.load('heart_rf_model.pkl')\n",
        "preds = model.predict(user_scaled)\n",
        "user_df['Heart_Disease_Prediction'] = preds\n",
        "\n",
        "print(user_df)"
      ],
      "metadata": {
        "id": "te7KyG9rNRG1"
      },
      "execution_count": null,
      "outputs": []
    }
  ]
}